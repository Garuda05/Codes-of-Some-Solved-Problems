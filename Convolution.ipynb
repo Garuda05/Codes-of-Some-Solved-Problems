{
  "nbformat": 4,
  "nbformat_minor": 0,
  "metadata": {
    "colab": {
      "name": "convolution_raw.ipynb",
      "provenance": []
    },
    "kernelspec": {
      "name": "python3",
      "display_name": "Python 3"
    }
  },
  "cells": [
    {
      "cell_type": "code",
      "metadata": {
        "id": "eouJqvVJXFaH",
        "colab_type": "code",
        "colab": {}
      },
      "source": [
        "import numpy as np\n",
        "from scipy import signal\n",
        "import cv2\n",
        "import os\n",
        "from google.colab import drive\n",
        "from google.colab.patches import cv2_imshow\n"
      ],
      "execution_count": 1,
      "outputs": []
    },
    {
      "cell_type": "code",
      "metadata": {
        "id": "yKLW-L5qXX1N",
        "colab_type": "code",
        "colab": {}
      },
      "source": [
        "drive.mount('/content/gdrive/')\n"
      ],
      "execution_count": null,
      "outputs": []
    },
    {
      "cell_type": "code",
      "metadata": {
        "id": "aiP1c1ySjkfh",
        "colab_type": "code",
        "colab": {}
      },
      "source": [
        "#root_path = 'gdrive/My Drive/Colab_Notebooks/'\n",
        "os.chdir('gdrive/My Drive/Colab_Notebooks/')"
      ],
      "execution_count": null,
      "outputs": []
    },
    {
      "cell_type": "code",
      "metadata": {
        "id": "2ntCaFYvg0Pm",
        "colab_type": "code",
        "colab": {}
      },
      "source": [
        "img_small = cv2.imread('chair3.jpg',cv2.IMREAD_GRAYSCALE)\n",
        "img = cv2.imread('chair2.jpg',cv2.IMREAD_GRAYSCALE)\n",
        "#cv2_imshow(img_small);\n",
        "cv2_imshow(img);\n",
        "#px = img[100,100]\n",
        "np.set_printoptions(threshold=np.inf, linewidth=420)\n",
        "#print (img_small)"
      ],
      "execution_count": null,
      "outputs": []
    },
    {
      "cell_type": "code",
      "metadata": {
        "id": "fI03wrzR3bbW",
        "colab_type": "code",
        "colab": {}
      },
      "source": [
        "kernel = np.array([[1, 0, -1],\n",
        "                   [1, 0, -1],\n",
        "                   [1, 0, -1]])\n",
        "dst = -signal.convolve2d(img_small, kernel, mode='valid')\n",
        "#cv2_imshow(dst)\n",
        "print(dst)"
      ],
      "execution_count": null,
      "outputs": []
    },
    {
      "cell_type": "code",
      "metadata": {
        "id": "Ebk4hE4Kwdnt",
        "colab_type": "code",
        "colab": {}
      },
      "source": [
        "kernel = np.array([[1, 0, -1],\n",
        "                   [1, 0, -1],\n",
        "                   [1, 0, -1]])\n",
        "dst = cv2.filter2D(img,-1,kernel)\n",
        "cv2_imshow(dst)\n",
        "#print(dst)"
      ],
      "execution_count": null,
      "outputs": []
    },
    {
      "cell_type": "code",
      "metadata": {
        "id": "zLF0Xi_OxZJp",
        "colab_type": "code",
        "colab": {}
      },
      "source": [
        "kernel = np.array([[1, 1, 1],\n",
        "                   [0, 0, 0],\n",
        "                   [-1, -1, -1]])\n",
        "dst = cv2.filter2D(img,-1,kernel)\n",
        "cv2_imshow(dst)\n",
        "#print(dst)"
      ],
      "execution_count": null,
      "outputs": []
    },
    {
      "cell_type": "code",
      "metadata": {
        "id": "JgSRzSE8yCAS",
        "colab_type": "code",
        "colab": {}
      },
      "source": [
        "kernel = np.array([[1, 1, 0],\n",
        "                   [1, 0, -1],\n",
        "                   [0, -1, -1]])\n",
        "dst = cv2.filter2D(img,-1,kernel)\n",
        "cv2_imshow(dst)\n",
        "#print(dst)"
      ],
      "execution_count": null,
      "outputs": []
    },
    {
      "cell_type": "code",
      "metadata": {
        "id": "szOKRA3F2PG5",
        "colab_type": "code",
        "colab": {}
      },
      "source": [
        "kernel = np.array([[-1, -1, 0],\n",
        "                   [-1, 0, 1],\n",
        "                   [0, 1, 1]])\n",
        "dst = cv2.filter2D(img,-1,kernel)\n",
        "cv2_imshow(dst)\n",
        "#print(dst)"
      ],
      "execution_count": null,
      "outputs": []
    }
  ]
}