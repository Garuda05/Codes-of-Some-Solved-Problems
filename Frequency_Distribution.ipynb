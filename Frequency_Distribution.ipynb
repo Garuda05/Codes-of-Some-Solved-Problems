{
  "nbformat": 4,
  "nbformat_minor": 0,
  "metadata": {
    "colab": {
      "name": "Frequency Distribution.ipynb",
      "provenance": [],
      "collapsed_sections": []
    },
    "kernelspec": {
      "name": "python3",
      "display_name": "Python 3"
    }
  },
  "cells": [
    {
      "cell_type": "code",
      "metadata": {
        "id": "0B5UsEgIIt4a",
        "colab_type": "code",
        "colab": {
          "base_uri": "https://localhost:8080/",
          "height": 119
        },
        "outputId": "02e3314a-fb09-4899-ec61-a3a1069d1dfe"
      },
      "source": [
        "import nltk\n",
        "from nltk.probability import FreqDist\n",
        "from nltk.corpus import stopwords\n",
        "import pandas as pd\n",
        "import numpy as np\n",
        "from operator import itemgetter\n",
        "nltk.download('stopwords')\n",
        "nltk.download('vader_lexicon')\n",
        "nltk.download('gutenberg')\n",
        "from nltk.sentiment.vader import SentimentIntensityAnalyzer\n",
        "sia = SentimentIntensityAnalyzer()"
      ],
      "execution_count": null,
      "outputs": [
        {
          "output_type": "stream",
          "text": [
            "[nltk_data] Downloading package stopwords to /root/nltk_data...\n",
            "[nltk_data]   Package stopwords is already up-to-date!\n",
            "[nltk_data] Downloading package vader_lexicon to /root/nltk_data...\n",
            "[nltk_data]   Package vader_lexicon is already up-to-date!\n",
            "[nltk_data] Downloading package gutenberg to /root/nltk_data...\n",
            "[nltk_data]   Package gutenberg is already up-to-date!\n"
          ],
          "name": "stdout"
        }
      ]
    },
    {
      "cell_type": "code",
      "metadata": {
        "id": "Ei1Nvr7eOUR2",
        "colab_type": "code",
        "colab": {}
      },
      "source": [
        "stop_words = set(stopwords.words('english'))"
      ],
      "execution_count": null,
      "outputs": []
    },
    {
      "cell_type": "code",
      "metadata": {
        "id": "poV3hM-HO-9w",
        "colab_type": "code",
        "colab": {}
      },
      "source": [
        "words = nltk.Text(nltk.corpus.gutenberg.words('bryant-stories.txt'))\n",
        "words_b = nltk.Text(nltk.corpus.gutenberg.words('bryant-stories.txt'))\n",
        "words_e = nltk.Text(nltk.corpus.gutenberg.words('austen-emma.txt'))"
      ],
      "execution_count": null,
      "outputs": []
    },
    {
      "cell_type": "code",
      "metadata": {
        "id": "iWeK6xa4QhO5",
        "colab_type": "code",
        "colab": {}
      },
      "source": [
        "words= [word.lower() for word in words if word.isalpha]\n",
        "words= [word.lower() for word in words if word not in stop_words]\n"
      ],
      "execution_count": null,
      "outputs": []
    },
    {
      "cell_type": "code",
      "metadata": {
        "id": "NzuBkZvFUxbO",
        "colab_type": "code",
        "colab": {}
      },
      "source": [
        "words_b= [word.lower() for word in words_b if word.isalpha]\n",
        "words_b= [word.lower() for word in words_b if word not in stop_words]\n",
        "words_e= [word.lower() for word in words_e if word.isalpha]\n",
        "words_e= [word.lower() for word in words_e if word not in stop_words]\n"
      ],
      "execution_count": null,
      "outputs": []
    },
    {
      "cell_type": "code",
      "metadata": {
        "id": "VXfPYV76VM1C",
        "colab_type": "code",
        "colab": {}
      },
      "source": [
        "words_br=words_b[:15000]\n",
        "words_em=words_e[:15000]"
      ],
      "execution_count": null,
      "outputs": []
    },
    {
      "cell_type": "code",
      "metadata": {
        "id": "vM_IsAchRW_6",
        "colab_type": "code",
        "colab": {}
      },
      "source": [
        "fDist= FreqDist(words)"
      ],
      "execution_count": null,
      "outputs": []
    },
    {
      "cell_type": "code",
      "metadata": {
        "id": "CmPTkURhRf6r",
        "colab_type": "code",
        "colab": {
          "base_uri": "https://localhost:8080/",
          "height": 34
        },
        "outputId": "b05d56a8-9df3-4a96-c82c-9e103da09c3e"
      },
      "source": [
        "len(words)"
      ],
      "execution_count": null,
      "outputs": [
        {
          "output_type": "execute_result",
          "data": {
            "text/plain": [
              "30670"
            ]
          },
          "metadata": {
            "tags": []
          },
          "execution_count": 21
        }
      ]
    },
    {
      "cell_type": "code",
      "metadata": {
        "id": "ghRfVHnRR8St",
        "colab_type": "code",
        "colab": {
          "base_uri": "https://localhost:8080/",
          "height": 34
        },
        "outputId": "96d76b60-5c6b-4d87-e9dd-e1dccddcd675"
      },
      "source": [
        "len(set(words))"
      ],
      "execution_count": null,
      "outputs": [
        {
          "output_type": "execute_result",
          "data": {
            "text/plain": [
              "3802"
            ]
          },
          "metadata": {
            "tags": []
          },
          "execution_count": 17
        }
      ]
    },
    {
      "cell_type": "code",
      "metadata": {
        "id": "YErqxT7AeSc1",
        "colab_type": "code",
        "colab": {
          "base_uri": "https://localhost:8080/",
          "height": 34
        },
        "outputId": "ddf316e4-9106-4135-b1cd-a599d672d0fb"
      },
      "source": [
        "Dlen(set(words_e))"
      ],
      "execution_count": null,
      "outputs": [
        {
          "output_type": "execute_result",
          "data": {
            "text/plain": [
              "7213"
            ]
          },
          "metadata": {
            "tags": []
          },
          "execution_count": 28
        }
      ]
    },
    {
      "cell_type": "code",
      "metadata": {
        "id": "1c1BfaHlSBBH",
        "colab_type": "code",
        "colab": {
          "base_uri": "https://localhost:8080/",
          "height": 357
        },
        "outputId": "4e590cf7-d320-41c5-a82e-f20cffc67855"
      },
      "source": [
        "for x,v in fDist.most_common(10):\n",
        "  print(x,v)\n",
        "for x,v in fDist.most_common(10):\n",
        "  print(x,v/len(fDist))\n"
      ],
      "execution_count": null,
      "outputs": [
        {
          "output_type": "stream",
          "text": [
            ", 3481\n",
            ". 1817\n",
            "\" 900\n",
            "little 597\n",
            "; 513\n",
            "' 457\n",
            "said 453\n",
            "- 270\n",
            ",\" 266\n",
            "! 252\n",
            ", 0.9155707522356654\n",
            ". 0.47790636507101525\n",
            "\" 0.23671751709626512\n",
            "little 0.15702261967385586\n",
            "; 0.1349289847448711\n",
            "' 0.12019989479221463\n",
            "said 0.11914781693845344\n",
            "- 0.07101525512887953\n",
            ",\" 0.06996317727511836\n",
            "! 0.06628090478695424\n"
          ],
          "name": "stdout"
        }
      ]
    },
    {
      "cell_type": "code",
      "metadata": {
        "id": "mjRp9BolSxh3",
        "colab_type": "code",
        "colab": {}
      },
      "source": [
        ""
      ],
      "execution_count": null,
      "outputs": []
    },
    {
      "cell_type": "code",
      "metadata": {
        "id": "Jf9qin77SdC2",
        "colab_type": "code",
        "colab": {}
      },
      "source": [
        ""
      ],
      "execution_count": null,
      "outputs": []
    }
  ]
}