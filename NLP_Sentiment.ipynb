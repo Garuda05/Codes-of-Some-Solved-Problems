{
  "nbformat": 4,
  "nbformat_minor": 0,
  "metadata": {
    "colab": {
      "name": "NLP Sentiment.ipynb",
      "provenance": [],
      "collapsed_sections": []
    },
    "kernelspec": {
      "name": "python3",
      "display_name": "Python 3"
    }
  },
  "cells": [
    {
      "cell_type": "code",
      "metadata": {
        "id": "fda8ClTGLDMR",
        "colab_type": "code",
        "colab": {
          "base_uri": "https://localhost:8080/",
          "height": 68
        },
        "outputId": "ab8b07c5-174e-4b75-cd68-2ee17b8c8f72"
      },
      "source": [
        "import nltk\n",
        "import pandas as pd\n",
        "import numpy as np\n",
        "nltk.download('vader_lexicon')"
      ],
      "execution_count": null,
      "outputs": [
        {
          "output_type": "stream",
          "text": [
            "[nltk_data] Downloading package vader_lexicon to /root/nltk_data...\n",
            "[nltk_data]   Package vader_lexicon is already up-to-date!\n"
          ],
          "name": "stdout"
        },
        {
          "output_type": "execute_result",
          "data": {
            "text/plain": [
              "True"
            ]
          },
          "metadata": {
            "tags": []
          },
          "execution_count": 50
        }
      ]
    },
    {
      "cell_type": "code",
      "metadata": {
        "id": "0YxhWBMvYeq8",
        "colab_type": "code",
        "colab": {}
      },
      "source": [
        "from nltk.sentiment.vader import SentimentIntensityAnalyzer\n",
        "sia = SentimentIntensityAnalyzer()"
      ],
      "execution_count": null,
      "outputs": []
    },
    {
      "cell_type": "code",
      "metadata": {
        "id": "5-Yh7Q-_ZHom",
        "colab_type": "code",
        "colab": {
          "base_uri": "https://localhost:8080/",
          "height": 272
        },
        "outputId": "2694c69d-aa25-4275-b077-49f9ddbe3d6a"
      },
      "source": [
        "url = 'https://raw.githubusercontent.com/MuhammedBuyukkinaci/TensorFlow-Sentiment-Analysis-on-Amazon-Reviews-Data/master/dataset/train_amazon.csv'\n",
        "amazon_Reviews = pd.read_csv(url)\n",
        "print(amazon_Reviews)\n",
        "print(amazon_Reviews.shape)"
      ],
      "execution_count": null,
      "outputs": [
        {
          "output_type": "stream",
          "text": [
            "        label                                               text\n",
            "0           0  Reference Yes, Learning or Instruction No: I p...\n",
            "1           0  NO!!!!!!I will give it 1 star.: This doll is n...\n",
            "2           0  Neat Features/Uncomfortable: I bought this wit...\n",
            "3           1  Progressive-Underground divas??? where's the v...\n",
            "4           0  The theif who stole a week.: What a stinker! I...\n",
            "...       ...                                                ...\n",
            "149995      0  Dubravka Tomsic never recorded the 14 waltzes!...\n",
            "149996      1  5 year old loves it.: Good purchase for us. He...\n",
            "149997      0  Busta should've done better...: As a big Papoo...\n",
            "149998      1  Really Great Soap but...: This soap lathers wo...\n",
            "149999      0  Just so so: Compared with the sound sensation ...\n",
            "\n",
            "[150000 rows x 2 columns]\n",
            "(150000, 2)\n"
          ],
          "name": "stdout"
        }
      ]
    },
    {
      "cell_type": "code",
      "metadata": {
        "id": "AFeDPe3TtJuQ",
        "colab_type": "code",
        "colab": {
          "base_uri": "https://localhost:8080/",
          "height": 68
        },
        "outputId": "355d4282-1c8b-46cf-b6ca-142a60d12179"
      },
      "source": [
        "amazon_Reviews['label'].value_counts()"
      ],
      "execution_count": null,
      "outputs": [
        {
          "output_type": "execute_result",
          "data": {
            "text/plain": [
              "0    75034\n",
              "1    74966\n",
              "Name: label, dtype: int64"
            ]
          },
          "metadata": {
            "tags": []
          },
          "execution_count": 53
        }
      ]
    },
    {
      "cell_type": "code",
      "metadata": {
        "id": "MheSbMgNtOFn",
        "colab_type": "code",
        "colab": {}
      },
      "source": [
        "amazon_Reviews.dropna(inplace=True)"
      ],
      "execution_count": null,
      "outputs": []
    },
    {
      "cell_type": "code",
      "metadata": {
        "id": "u5TWuBZitwx5",
        "colab_type": "code",
        "colab": {
          "base_uri": "https://localhost:8080/",
          "height": 297
        },
        "outputId": "ef9c2339-b259-4183-946b-04ed232aad1b"
      },
      "source": [
        "amazon_Reviews.describe()"
      ],
      "execution_count": null,
      "outputs": [
        {
          "output_type": "execute_result",
          "data": {
            "text/html": [
              "<div>\n",
              "<style scoped>\n",
              "    .dataframe tbody tr th:only-of-type {\n",
              "        vertical-align: middle;\n",
              "    }\n",
              "\n",
              "    .dataframe tbody tr th {\n",
              "        vertical-align: top;\n",
              "    }\n",
              "\n",
              "    .dataframe thead th {\n",
              "        text-align: right;\n",
              "    }\n",
              "</style>\n",
              "<table border=\"1\" class=\"dataframe\">\n",
              "  <thead>\n",
              "    <tr style=\"text-align: right;\">\n",
              "      <th></th>\n",
              "      <th>label</th>\n",
              "    </tr>\n",
              "  </thead>\n",
              "  <tbody>\n",
              "    <tr>\n",
              "      <th>count</th>\n",
              "      <td>150000.000000</td>\n",
              "    </tr>\n",
              "    <tr>\n",
              "      <th>mean</th>\n",
              "      <td>0.499773</td>\n",
              "    </tr>\n",
              "    <tr>\n",
              "      <th>std</th>\n",
              "      <td>0.500002</td>\n",
              "    </tr>\n",
              "    <tr>\n",
              "      <th>min</th>\n",
              "      <td>0.000000</td>\n",
              "    </tr>\n",
              "    <tr>\n",
              "      <th>25%</th>\n",
              "      <td>0.000000</td>\n",
              "    </tr>\n",
              "    <tr>\n",
              "      <th>50%</th>\n",
              "      <td>0.000000</td>\n",
              "    </tr>\n",
              "    <tr>\n",
              "      <th>75%</th>\n",
              "      <td>1.000000</td>\n",
              "    </tr>\n",
              "    <tr>\n",
              "      <th>max</th>\n",
              "      <td>1.000000</td>\n",
              "    </tr>\n",
              "  </tbody>\n",
              "</table>\n",
              "</div>"
            ],
            "text/plain": [
              "               label\n",
              "count  150000.000000\n",
              "mean        0.499773\n",
              "std         0.500002\n",
              "min         0.000000\n",
              "25%         0.000000\n",
              "50%         0.000000\n",
              "75%         1.000000\n",
              "max         1.000000"
            ]
          },
          "metadata": {
            "tags": []
          },
          "execution_count": 55
        }
      ]
    },
    {
      "cell_type": "code",
      "metadata": {
        "id": "g56QHiiDtz_r",
        "colab_type": "code",
        "colab": {}
      },
      "source": [
        "empty=[]\n",
        "for i, label, review in amazon_Reviews.itertuples():\n",
        "  if type(review)==str:\n",
        "    if review.isspace():\n",
        "      epmty.append(i)"
      ],
      "execution_count": null,
      "outputs": []
    },
    {
      "cell_type": "code",
      "metadata": {
        "id": "-0Bi56cAuUl2",
        "colab_type": "code",
        "colab": {}
      },
      "source": [
        "amazon_Reviews.drop(empty, inplace=True)"
      ],
      "execution_count": null,
      "outputs": []
    },
    {
      "cell_type": "code",
      "metadata": {
        "id": "Uf5sgG3auUa7",
        "colab_type": "code",
        "colab": {
          "base_uri": "https://localhost:8080/",
          "height": 241
        },
        "outputId": "6b3dddbd-769f-4f57-d13c-5eda94396ea3"
      },
      "source": [
        "amazon_Reviews['text'].value_counts()"
      ],
      "execution_count": null,
      "outputs": [
        {
          "output_type": "execute_result",
          "data": {
            "text/plain": [
              "RICHNESS OF AMERICAN HISTORY!: i only wished i could have known about this \"GREAT BOOK\" back in H.S! The RICHNESS OF THE AMERICAN CULTURE IS ONE THAT EVERY YOUN WOMEN & MEN SHOULD HAVE KNOWLEDGE OF! Things were FOUGHT HARD W/BLOOD & SWEAT TO BE WHERE THIS NATION IS! Every young life will benefit GREATLY FROM THE GREAT FOUNDATION THE CONSTITUTION WAS BUILT UPON! We as American Citizens have lost SO MUCH DO TO THE LACK OF DESIRE TO TEACH OUR CHILDREN THIS WONDERFUL VALUES!!! It will most DEFINETLY HELP SHAPE THE LIVES OF YOUNG PEOPLE! Teach that things are CONQUERED THROUGH HARD WORK! AND GREAT DESIRE TO BECOME THE BEST THAT ONE CAN! NOT A SOCIETY OF YOUNG PEOPLE THAT THINK THEY ARE \"ENTITLED\" TO EVERY BENEFIT OF OTHER PEOPLE'S HARD LABOR!!!    1\n",
              "Voice of an Angel!: One of the most beautiful angelic voice in the world! But I don't think this collection shows her best recording pieces.                                                                                                                                                                                                                                                                                                                                                                                                                                                                                                                                                                                                                                     1\n",
              "Questionable product?: I have purchased 2 of these products recently and both have failed within 2 months. Sure Amazon and Maxtor have replaced the units but I have had to pay the shipping and have had the trouble to be without them for several weeks. Cannot Maxtor do better than this? I think I will recosider before buying another Maxtor product. I guess that I just assumed that all Maxtor products were top quality but I was wrong. Please do your research better than I did.                                                                                                                                                                                                                                                                                  1\n",
              "Great Documentary: Beautiful documentary of the life of Marian Anderson, who lived a life of faith. This is not a DVD of her songs but of her life as a Christian woman who met discrimination, trials and success with grace and dignity. This is a great DVD if you are not familiar with the life of Marian Anderson and how she used her voice to bridge the gap of blacks and whites.                                                                                                                                                                                                                                                                                                                                                                                       1\n",
              "More of a Bean Cracker Rather than Grinder: I bought this grinder about a year ago. Frustrating to use on several facets of function:1.) Even on the Extra Fine Espresso grind selection the grounds are only suitable for use in a French press.2.) Have to shake the unit in order for the beans to feed into the grinder.3.) Grounds are tough to get out of the catch vessel of the grinder.4.) Noisy.                                                                                                                                                                                                                                                                                                                                                                       1\n",
              "                                                                                                                                                                                                                                                                                                                                                                                                                                                                                                                                                                                                                                                                                                                                                                                ..\n",
              "My first: This was one of the first romance books I can remember reading when I was younger. It got me hooked on not only Garwood's books, but romance and anything about Highlanders.                                                                                                                                                                                                                                                                                                                                                                                                                                                                                                                                                                                           1\n",
              "You have planted your garden; now what?: Janet Macunovich has provided a very detailed account of what to do after you have planted your perennial garden. It is very informative as we follow her tending an actual perennial garden; a great concept. Mistakes and all, we see the problems, challenges, and joys of perennial gardening the way most of us do it. From early spring cleanup, to plant division, to weeding, plant choice and more, this is an excellent book for those who have a perennial garden, or those who are considering one. No punches pulled; highly recommended. Why four stars? I live in Arizona; if the book was written for desert gardens, five stars. (I know, I know...)Bob Burke                                                          1\n",
              "This will get you through an Alaska winter: I live in Fairbanks, AK, where it frequently gets to 40 degrees below zero. I prefer cold temperatures so the average person would get more use out of this than me. There were only a handful of days where it got cold enough for me to use this jacket. The zipper pull is large enough that you can easily use the zipper with gloves on.FYI to anyone considering purchasing it... This is an OUTER LAYER. If you are normally a size Large and wear a Large jacket with just a long sleeved t-shirt, it will feel way too big.                                                                                                                                                                                                 1\n",
              "Disguised as Truth: The most damaging sins evolve from truth mixed with untruth. Mr. Bell has masterfully woven these half-truths into a book that sounds true but leaves a lingering doubt in the mind. This is the essence of false statements and unfortunately leads people awry. My hope is that people are given the wisdom from Him to discern the facts from fiction.                                                                                                                                                                                                                                                                                                                                                                                                    1\n",
              "trashy and vulgar: not sensual at all, vulgar and trashy. I was looking for slow sensual music for massage or background for love making, but this is rather distracting, imaturely provocative and most embarrassing. Not my type of music (if you call it music at all)                                                                                                                                                                                                                                                                                                                                                                                                                                                                                                        1\n",
              "Name: text, Length: 150000, dtype: int64"
            ]
          },
          "metadata": {
            "tags": []
          },
          "execution_count": 58
        }
      ]
    },
    {
      "cell_type": "code",
      "metadata": {
        "id": "JzgqM2fqvCSq",
        "colab_type": "code",
        "colab": {
          "base_uri": "https://localhost:8080/",
          "height": 34
        },
        "outputId": "81e727f2-c969-4c24-b9d8-bd35e80ac61e"
      },
      "source": [
        "sia.polarity_scores(amazon_Reviews.loc[0]['text'])"
      ],
      "execution_count": null,
      "outputs": [
        {
          "output_type": "execute_result",
          "data": {
            "text/plain": [
              "{'compound': 0.5106, 'neg': 0.021, 'neu': 0.902, 'pos': 0.077}"
            ]
          },
          "metadata": {
            "tags": []
          },
          "execution_count": 59
        }
      ]
    },
    {
      "cell_type": "code",
      "metadata": {
        "id": "AAsSv0a7vmjG",
        "colab_type": "code",
        "colab": {
          "base_uri": "https://localhost:8080/",
          "height": 54
        },
        "outputId": "b3128b5f-ed5d-48b1-bfd0-66c9416ef110"
      },
      "source": [
        "amazon_Reviews.loc[0]['text']"
      ],
      "execution_count": null,
      "outputs": [
        {
          "output_type": "execute_result",
          "data": {
            "text/plain": [
              "'Reference Yes, Learning or Instruction No: I purchased this book because the customer reviews were fairly positive. But this book is a lot like going on a scavenger hunt. Information is scattered throughout and it is your job to find it. For example, the term \"threads\" is referred to quite often early on but they don\\'t define this term until midway through the book. I found myself jumping all over the place for either a definition or explanation.'"
            ]
          },
          "metadata": {
            "tags": []
          },
          "execution_count": 60
        }
      ]
    },
    {
      "cell_type": "code",
      "metadata": {
        "id": "jWSkL6Y1v4Rx",
        "colab_type": "code",
        "colab": {
          "base_uri": "https://localhost:8080/",
          "height": 204
        },
        "outputId": "34b96798-24e6-4afb-c6a4-08b40f9aded8"
      },
      "source": [
        "amazon_Reviews['scores']=amazon_Reviews['text'].apply(lambda review: sia.polarity_scores(review))\n",
        "amazon_Reviews.head()"
      ],
      "execution_count": null,
      "outputs": [
        {
          "output_type": "execute_result",
          "data": {
            "text/html": [
              "<div>\n",
              "<style scoped>\n",
              "    .dataframe tbody tr th:only-of-type {\n",
              "        vertical-align: middle;\n",
              "    }\n",
              "\n",
              "    .dataframe tbody tr th {\n",
              "        vertical-align: top;\n",
              "    }\n",
              "\n",
              "    .dataframe thead th {\n",
              "        text-align: right;\n",
              "    }\n",
              "</style>\n",
              "<table border=\"1\" class=\"dataframe\">\n",
              "  <thead>\n",
              "    <tr style=\"text-align: right;\">\n",
              "      <th></th>\n",
              "      <th>label</th>\n",
              "      <th>text</th>\n",
              "      <th>scores</th>\n",
              "    </tr>\n",
              "  </thead>\n",
              "  <tbody>\n",
              "    <tr>\n",
              "      <th>0</th>\n",
              "      <td>0</td>\n",
              "      <td>Reference Yes, Learning or Instruction No: I p...</td>\n",
              "      <td>{'neg': 0.021, 'neu': 0.902, 'pos': 0.077, 'co...</td>\n",
              "    </tr>\n",
              "    <tr>\n",
              "      <th>1</th>\n",
              "      <td>0</td>\n",
              "      <td>NO!!!!!!I will give it 1 star.: This doll is n...</td>\n",
              "      <td>{'neg': 0.0, 'neu': 0.913, 'pos': 0.087, 'comp...</td>\n",
              "    </tr>\n",
              "    <tr>\n",
              "      <th>2</th>\n",
              "      <td>0</td>\n",
              "      <td>Neat Features/Uncomfortable: I bought this wit...</td>\n",
              "      <td>{'neg': 0.044, 'neu': 0.775, 'pos': 0.181, 'co...</td>\n",
              "    </tr>\n",
              "    <tr>\n",
              "      <th>3</th>\n",
              "      <td>1</td>\n",
              "      <td>Progressive-Underground divas??? where's the v...</td>\n",
              "      <td>{'neg': 0.098, 'neu': 0.73, 'pos': 0.172, 'com...</td>\n",
              "    </tr>\n",
              "    <tr>\n",
              "      <th>4</th>\n",
              "      <td>0</td>\n",
              "      <td>The theif who stole a week.: What a stinker! I...</td>\n",
              "      <td>{'neg': 0.027, 'neu': 0.737, 'pos': 0.236, 'co...</td>\n",
              "    </tr>\n",
              "  </tbody>\n",
              "</table>\n",
              "</div>"
            ],
            "text/plain": [
              "   label  ...                                             scores\n",
              "0      0  ...  {'neg': 0.021, 'neu': 0.902, 'pos': 0.077, 'co...\n",
              "1      0  ...  {'neg': 0.0, 'neu': 0.913, 'pos': 0.087, 'comp...\n",
              "2      0  ...  {'neg': 0.044, 'neu': 0.775, 'pos': 0.181, 'co...\n",
              "3      1  ...  {'neg': 0.098, 'neu': 0.73, 'pos': 0.172, 'com...\n",
              "4      0  ...  {'neg': 0.027, 'neu': 0.737, 'pos': 0.236, 'co...\n",
              "\n",
              "[5 rows x 3 columns]"
            ]
          },
          "metadata": {
            "tags": []
          },
          "execution_count": 61
        }
      ]
    },
    {
      "cell_type": "code",
      "metadata": {
        "id": "Lo7pv0daw8Lo",
        "colab_type": "code",
        "colab": {
          "base_uri": "https://localhost:8080/",
          "height": 204
        },
        "outputId": "c9471c37-6bb3-4aaf-910f-e8dc0259ef8b"
      },
      "source": [
        "amazon_Reviews['compound']=amazon_Reviews['scores'].apply(lambda scores_dict: scores_dict['compound'])\n",
        "amazon_Reviews.head()"
      ],
      "execution_count": null,
      "outputs": [
        {
          "output_type": "execute_result",
          "data": {
            "text/html": [
              "<div>\n",
              "<style scoped>\n",
              "    .dataframe tbody tr th:only-of-type {\n",
              "        vertical-align: middle;\n",
              "    }\n",
              "\n",
              "    .dataframe tbody tr th {\n",
              "        vertical-align: top;\n",
              "    }\n",
              "\n",
              "    .dataframe thead th {\n",
              "        text-align: right;\n",
              "    }\n",
              "</style>\n",
              "<table border=\"1\" class=\"dataframe\">\n",
              "  <thead>\n",
              "    <tr style=\"text-align: right;\">\n",
              "      <th></th>\n",
              "      <th>label</th>\n",
              "      <th>text</th>\n",
              "      <th>scores</th>\n",
              "      <th>compound</th>\n",
              "    </tr>\n",
              "  </thead>\n",
              "  <tbody>\n",
              "    <tr>\n",
              "      <th>0</th>\n",
              "      <td>0</td>\n",
              "      <td>Reference Yes, Learning or Instruction No: I p...</td>\n",
              "      <td>{'neg': 0.021, 'neu': 0.902, 'pos': 0.077, 'co...</td>\n",
              "      <td>0.5106</td>\n",
              "    </tr>\n",
              "    <tr>\n",
              "      <th>1</th>\n",
              "      <td>0</td>\n",
              "      <td>NO!!!!!!I will give it 1 star.: This doll is n...</td>\n",
              "      <td>{'neg': 0.0, 'neu': 0.913, 'pos': 0.087, 'comp...</td>\n",
              "      <td>0.3544</td>\n",
              "    </tr>\n",
              "    <tr>\n",
              "      <th>2</th>\n",
              "      <td>0</td>\n",
              "      <td>Neat Features/Uncomfortable: I bought this wit...</td>\n",
              "      <td>{'neg': 0.044, 'neu': 0.775, 'pos': 0.181, 'co...</td>\n",
              "      <td>0.9674</td>\n",
              "    </tr>\n",
              "    <tr>\n",
              "      <th>3</th>\n",
              "      <td>1</td>\n",
              "      <td>Progressive-Underground divas??? where's the v...</td>\n",
              "      <td>{'neg': 0.098, 'neu': 0.73, 'pos': 0.172, 'com...</td>\n",
              "      <td>0.9306</td>\n",
              "    </tr>\n",
              "    <tr>\n",
              "      <th>4</th>\n",
              "      <td>0</td>\n",
              "      <td>The theif who stole a week.: What a stinker! I...</td>\n",
              "      <td>{'neg': 0.027, 'neu': 0.737, 'pos': 0.236, 'co...</td>\n",
              "      <td>0.9896</td>\n",
              "    </tr>\n",
              "  </tbody>\n",
              "</table>\n",
              "</div>"
            ],
            "text/plain": [
              "   label  ... compound\n",
              "0      0  ...   0.5106\n",
              "1      0  ...   0.3544\n",
              "2      0  ...   0.9674\n",
              "3      1  ...   0.9306\n",
              "4      0  ...   0.9896\n",
              "\n",
              "[5 rows x 4 columns]"
            ]
          },
          "metadata": {
            "tags": []
          },
          "execution_count": 62
        }
      ]
    },
    {
      "cell_type": "code",
      "metadata": {
        "id": "I937C9SvxR5M",
        "colab_type": "code",
        "colab": {
          "base_uri": "https://localhost:8080/",
          "height": 204
        },
        "outputId": "83a921d7-577d-45cb-c436-875e3213a323"
      },
      "source": [
        "amazon_Reviews['compound_score in P/N']=amazon_Reviews['compound'].apply(lambda c: 'pos' if c>=0 else 'neg')\n",
        "amazon_Reviews.head()"
      ],
      "execution_count": null,
      "outputs": [
        {
          "output_type": "execute_result",
          "data": {
            "text/html": [
              "<div>\n",
              "<style scoped>\n",
              "    .dataframe tbody tr th:only-of-type {\n",
              "        vertical-align: middle;\n",
              "    }\n",
              "\n",
              "    .dataframe tbody tr th {\n",
              "        vertical-align: top;\n",
              "    }\n",
              "\n",
              "    .dataframe thead th {\n",
              "        text-align: right;\n",
              "    }\n",
              "</style>\n",
              "<table border=\"1\" class=\"dataframe\">\n",
              "  <thead>\n",
              "    <tr style=\"text-align: right;\">\n",
              "      <th></th>\n",
              "      <th>label</th>\n",
              "      <th>text</th>\n",
              "      <th>scores</th>\n",
              "      <th>compound</th>\n",
              "      <th>compound_score in P/N</th>\n",
              "    </tr>\n",
              "  </thead>\n",
              "  <tbody>\n",
              "    <tr>\n",
              "      <th>0</th>\n",
              "      <td>0</td>\n",
              "      <td>Reference Yes, Learning or Instruction No: I p...</td>\n",
              "      <td>{'neg': 0.021, 'neu': 0.902, 'pos': 0.077, 'co...</td>\n",
              "      <td>0.5106</td>\n",
              "      <td>pos</td>\n",
              "    </tr>\n",
              "    <tr>\n",
              "      <th>1</th>\n",
              "      <td>0</td>\n",
              "      <td>NO!!!!!!I will give it 1 star.: This doll is n...</td>\n",
              "      <td>{'neg': 0.0, 'neu': 0.913, 'pos': 0.087, 'comp...</td>\n",
              "      <td>0.3544</td>\n",
              "      <td>pos</td>\n",
              "    </tr>\n",
              "    <tr>\n",
              "      <th>2</th>\n",
              "      <td>0</td>\n",
              "      <td>Neat Features/Uncomfortable: I bought this wit...</td>\n",
              "      <td>{'neg': 0.044, 'neu': 0.775, 'pos': 0.181, 'co...</td>\n",
              "      <td>0.9674</td>\n",
              "      <td>pos</td>\n",
              "    </tr>\n",
              "    <tr>\n",
              "      <th>3</th>\n",
              "      <td>1</td>\n",
              "      <td>Progressive-Underground divas??? where's the v...</td>\n",
              "      <td>{'neg': 0.098, 'neu': 0.73, 'pos': 0.172, 'com...</td>\n",
              "      <td>0.9306</td>\n",
              "      <td>pos</td>\n",
              "    </tr>\n",
              "    <tr>\n",
              "      <th>4</th>\n",
              "      <td>0</td>\n",
              "      <td>The theif who stole a week.: What a stinker! I...</td>\n",
              "      <td>{'neg': 0.027, 'neu': 0.737, 'pos': 0.236, 'co...</td>\n",
              "      <td>0.9896</td>\n",
              "      <td>pos</td>\n",
              "    </tr>\n",
              "  </tbody>\n",
              "</table>\n",
              "</div>"
            ],
            "text/plain": [
              "   label  ... compound_score in P/N\n",
              "0      0  ...                   pos\n",
              "1      0  ...                   pos\n",
              "2      0  ...                   pos\n",
              "3      1  ...                   pos\n",
              "4      0  ...                   pos\n",
              "\n",
              "[5 rows x 5 columns]"
            ]
          },
          "metadata": {
            "tags": []
          },
          "execution_count": 63
        }
      ]
    },
    {
      "cell_type": "code",
      "metadata": {
        "id": "ufzJJ_-S4-xX",
        "colab_type": "code",
        "colab": {
          "base_uri": "https://localhost:8080/",
          "height": 669
        },
        "outputId": "ab8d5fc6-e34c-4a1f-f6bf-9663b1e0f4cf"
      },
      "source": [
        "amazon_Reviews['compound_score'] = amazon_Reviews['compound_score in P/N'].apply(lambda x: 0 if x=='neg' else 1)\n",
        "amazon_Reviews.head(20)"
      ],
      "execution_count": null,
      "outputs": [
        {
          "output_type": "execute_result",
          "data": {
            "text/html": [
              "<div>\n",
              "<style scoped>\n",
              "    .dataframe tbody tr th:only-of-type {\n",
              "        vertical-align: middle;\n",
              "    }\n",
              "\n",
              "    .dataframe tbody tr th {\n",
              "        vertical-align: top;\n",
              "    }\n",
              "\n",
              "    .dataframe thead th {\n",
              "        text-align: right;\n",
              "    }\n",
              "</style>\n",
              "<table border=\"1\" class=\"dataframe\">\n",
              "  <thead>\n",
              "    <tr style=\"text-align: right;\">\n",
              "      <th></th>\n",
              "      <th>label</th>\n",
              "      <th>text</th>\n",
              "      <th>scores</th>\n",
              "      <th>compound</th>\n",
              "      <th>compound_score in P/N</th>\n",
              "      <th>compound_score</th>\n",
              "    </tr>\n",
              "  </thead>\n",
              "  <tbody>\n",
              "    <tr>\n",
              "      <th>0</th>\n",
              "      <td>0</td>\n",
              "      <td>Reference Yes, Learning or Instruction No: I p...</td>\n",
              "      <td>{'neg': 0.021, 'neu': 0.902, 'pos': 0.077, 'co...</td>\n",
              "      <td>0.5106</td>\n",
              "      <td>pos</td>\n",
              "      <td>1</td>\n",
              "    </tr>\n",
              "    <tr>\n",
              "      <th>1</th>\n",
              "      <td>0</td>\n",
              "      <td>NO!!!!!!I will give it 1 star.: This doll is n...</td>\n",
              "      <td>{'neg': 0.0, 'neu': 0.913, 'pos': 0.087, 'comp...</td>\n",
              "      <td>0.3544</td>\n",
              "      <td>pos</td>\n",
              "      <td>1</td>\n",
              "    </tr>\n",
              "    <tr>\n",
              "      <th>2</th>\n",
              "      <td>0</td>\n",
              "      <td>Neat Features/Uncomfortable: I bought this wit...</td>\n",
              "      <td>{'neg': 0.044, 'neu': 0.775, 'pos': 0.181, 'co...</td>\n",
              "      <td>0.9674</td>\n",
              "      <td>pos</td>\n",
              "      <td>1</td>\n",
              "    </tr>\n",
              "    <tr>\n",
              "      <th>3</th>\n",
              "      <td>1</td>\n",
              "      <td>Progressive-Underground divas??? where's the v...</td>\n",
              "      <td>{'neg': 0.098, 'neu': 0.73, 'pos': 0.172, 'com...</td>\n",
              "      <td>0.9306</td>\n",
              "      <td>pos</td>\n",
              "      <td>1</td>\n",
              "    </tr>\n",
              "    <tr>\n",
              "      <th>4</th>\n",
              "      <td>0</td>\n",
              "      <td>The theif who stole a week.: What a stinker! I...</td>\n",
              "      <td>{'neg': 0.027, 'neu': 0.737, 'pos': 0.236, 'co...</td>\n",
              "      <td>0.9896</td>\n",
              "      <td>pos</td>\n",
              "      <td>1</td>\n",
              "    </tr>\n",
              "    <tr>\n",
              "      <th>5</th>\n",
              "      <td>0</td>\n",
              "      <td>This movie was terrible!: When I subjected mys...</td>\n",
              "      <td>{'neg': 0.096, 'neu': 0.744, 'pos': 0.16, 'com...</td>\n",
              "      <td>0.7235</td>\n",
              "      <td>pos</td>\n",
              "      <td>1</td>\n",
              "    </tr>\n",
              "    <tr>\n",
              "      <th>6</th>\n",
              "      <td>1</td>\n",
              "      <td>I love wood: I have a few in-laws who benfited...</td>\n",
              "      <td>{'neg': 0.0, 'neu': 0.675, 'pos': 0.325, 'comp...</td>\n",
              "      <td>0.8910</td>\n",
              "      <td>pos</td>\n",
              "      <td>1</td>\n",
              "    </tr>\n",
              "    <tr>\n",
              "      <th>7</th>\n",
              "      <td>1</td>\n",
              "      <td>Lets me use my own coffee, save K-Cups, and be...</td>\n",
              "      <td>{'neg': 0.043, 'neu': 0.836, 'pos': 0.121, 'co...</td>\n",
              "      <td>0.9180</td>\n",
              "      <td>pos</td>\n",
              "      <td>1</td>\n",
              "    </tr>\n",
              "    <tr>\n",
              "      <th>8</th>\n",
              "      <td>0</td>\n",
              "      <td>Good for study purposes: When I first opened t...</td>\n",
              "      <td>{'neg': 0.09, 'neu': 0.853, 'pos': 0.058, 'com...</td>\n",
              "      <td>-0.7219</td>\n",
              "      <td>neg</td>\n",
              "      <td>0</td>\n",
              "    </tr>\n",
              "    <tr>\n",
              "      <th>9</th>\n",
              "      <td>1</td>\n",
              "      <td>Great for Beadweaving!: I copy portions of wor...</td>\n",
              "      <td>{'neg': 0.057, 'neu': 0.659, 'pos': 0.284, 'co...</td>\n",
              "      <td>0.9531</td>\n",
              "      <td>pos</td>\n",
              "      <td>1</td>\n",
              "    </tr>\n",
              "    <tr>\n",
              "      <th>10</th>\n",
              "      <td>0</td>\n",
              "      <td>gifts for people: this was a gift. i can not r...</td>\n",
              "      <td>{'neg': 0.0, 'neu': 0.858, 'pos': 0.142, 'comp...</td>\n",
              "      <td>0.8442</td>\n",
              "      <td>pos</td>\n",
              "      <td>1</td>\n",
              "    </tr>\n",
              "    <tr>\n",
              "      <th>11</th>\n",
              "      <td>1</td>\n",
              "      <td>Very good read!: Although I expected the story...</td>\n",
              "      <td>{'neg': 0.0, 'neu': 0.825, 'pos': 0.175, 'comp...</td>\n",
              "      <td>0.7495</td>\n",
              "      <td>pos</td>\n",
              "      <td>1</td>\n",
              "    </tr>\n",
              "    <tr>\n",
              "      <th>12</th>\n",
              "      <td>1</td>\n",
              "      <td>Truly Wonderful: Cussler continues to astound ...</td>\n",
              "      <td>{'neg': 0.0, 'neu': 0.655, 'pos': 0.345, 'comp...</td>\n",
              "      <td>0.9022</td>\n",
              "      <td>pos</td>\n",
              "      <td>1</td>\n",
              "    </tr>\n",
              "    <tr>\n",
              "      <th>13</th>\n",
              "      <td>1</td>\n",
              "      <td>Africa de mi corazón: Does anyone know where o...</td>\n",
              "      <td>{'neg': 0.0, 'neu': 0.902, 'pos': 0.098, 'comp...</td>\n",
              "      <td>0.7430</td>\n",
              "      <td>pos</td>\n",
              "      <td>1</td>\n",
              "    </tr>\n",
              "    <tr>\n",
              "      <th>14</th>\n",
              "      <td>1</td>\n",
              "      <td>good, but i need help: joey the passion is a g...</td>\n",
              "      <td>{'neg': 0.059, 'neu': 0.709, 'pos': 0.232, 'co...</td>\n",
              "      <td>0.9825</td>\n",
              "      <td>pos</td>\n",
              "      <td>1</td>\n",
              "    </tr>\n",
              "    <tr>\n",
              "      <th>15</th>\n",
              "      <td>0</td>\n",
              "      <td>Turntable with Audio recording software: The p...</td>\n",
              "      <td>{'neg': 0.017, 'neu': 0.932, 'pos': 0.051, 'co...</td>\n",
              "      <td>0.2516</td>\n",
              "      <td>pos</td>\n",
              "      <td>1</td>\n",
              "    </tr>\n",
              "    <tr>\n",
              "      <th>16</th>\n",
              "      <td>0</td>\n",
              "      <td>Very poorly written, \"assembly line\" book: I h...</td>\n",
              "      <td>{'neg': 0.12, 'neu': 0.778, 'pos': 0.102, 'com...</td>\n",
              "      <td>-0.5570</td>\n",
              "      <td>neg</td>\n",
              "      <td>0</td>\n",
              "    </tr>\n",
              "    <tr>\n",
              "      <th>17</th>\n",
              "      <td>0</td>\n",
              "      <td>Tired, immature, and completely ill-prepared: ...</td>\n",
              "      <td>{'neg': 0.086, 'neu': 0.887, 'pos': 0.028, 'co...</td>\n",
              "      <td>-0.6401</td>\n",
              "      <td>neg</td>\n",
              "      <td>0</td>\n",
              "    </tr>\n",
              "    <tr>\n",
              "      <th>18</th>\n",
              "      <td>0</td>\n",
              "      <td>Husband Gerald Brenan would have done better: ...</td>\n",
              "      <td>{'neg': 0.066, 'neu': 0.804, 'pos': 0.13, 'com...</td>\n",
              "      <td>0.8579</td>\n",
              "      <td>pos</td>\n",
              "      <td>1</td>\n",
              "    </tr>\n",
              "    <tr>\n",
              "      <th>19</th>\n",
              "      <td>0</td>\n",
              "      <td>more of a clash than a flow: Ok so as almost e...</td>\n",
              "      <td>{'neg': 0.041, 'neu': 0.849, 'pos': 0.11, 'com...</td>\n",
              "      <td>0.9258</td>\n",
              "      <td>pos</td>\n",
              "      <td>1</td>\n",
              "    </tr>\n",
              "  </tbody>\n",
              "</table>\n",
              "</div>"
            ],
            "text/plain": [
              "    label  ... compound_score\n",
              "0       0  ...              1\n",
              "1       0  ...              1\n",
              "2       0  ...              1\n",
              "3       1  ...              1\n",
              "4       0  ...              1\n",
              "5       0  ...              1\n",
              "6       1  ...              1\n",
              "7       1  ...              1\n",
              "8       0  ...              0\n",
              "9       1  ...              1\n",
              "10      0  ...              1\n",
              "11      1  ...              1\n",
              "12      1  ...              1\n",
              "13      1  ...              1\n",
              "14      1  ...              1\n",
              "15      0  ...              1\n",
              "16      0  ...              0\n",
              "17      0  ...              0\n",
              "18      0  ...              1\n",
              "19      0  ...              1\n",
              "\n",
              "[20 rows x 6 columns]"
            ]
          },
          "metadata": {
            "tags": []
          },
          "execution_count": 64
        }
      ]
    },
    {
      "cell_type": "code",
      "metadata": {
        "id": "vRpbTak1xwWD",
        "colab_type": "code",
        "colab": {}
      },
      "source": [
        "from sklearn.metrics import accuracy_score, classification_report, confusion_matrix"
      ],
      "execution_count": null,
      "outputs": []
    },
    {
      "cell_type": "code",
      "metadata": {
        "id": "r11a581k5mL3",
        "colab_type": "code",
        "colab": {
          "base_uri": "https://localhost:8080/",
          "height": 34
        },
        "outputId": "3d371027-0241-468d-cf10-518bd3faa41d"
      },
      "source": [
        "accuracy_score(amazon_Reviews['label'], amazon_Reviews['compound_score'])"
      ],
      "execution_count": null,
      "outputs": [
        {
          "output_type": "execute_result",
          "data": {
            "text/plain": [
              "0.71034"
            ]
          },
          "metadata": {
            "tags": []
          },
          "execution_count": 66
        }
      ]
    },
    {
      "cell_type": "code",
      "metadata": {
        "id": "gIC7LBza2k4m",
        "colab_type": "code",
        "colab": {
          "base_uri": "https://localhost:8080/",
          "height": 54
        },
        "outputId": "12b674bb-d211-4fe9-84dc-66f9ded70a3f"
      },
      "source": [
        "classification_report(amazon_Reviews['label'], amazon_Reviews['compound_score'])"
      ],
      "execution_count": null,
      "outputs": [
        {
          "output_type": "execute_result",
          "data": {
            "text/plain": [
              "'              precision    recall  f1-score   support\\n\\n           0       0.87      0.49      0.63     75034\\n           1       0.65      0.93      0.76     74966\\n\\n    accuracy                           0.71    150000\\n   macro avg       0.76      0.71      0.70    150000\\nweighted avg       0.76      0.71      0.70    150000\\n'"
            ]
          },
          "metadata": {
            "tags": []
          },
          "execution_count": 68
        }
      ]
    },
    {
      "cell_type": "code",
      "metadata": {
        "id": "xfDRrRTs29oL",
        "colab_type": "code",
        "colab": {
          "base_uri": "https://localhost:8080/",
          "height": 51
        },
        "outputId": "cfe65550-1648-48b2-cec6-dfac8948151c"
      },
      "source": [
        "confusion_matrix(amazon_Reviews['label'], amazon_Reviews['compound_score'])"
      ],
      "execution_count": null,
      "outputs": [
        {
          "output_type": "execute_result",
          "data": {
            "text/plain": [
              "array([[36885, 38149],\n",
              "       [ 5300, 69666]])"
            ]
          },
          "metadata": {
            "tags": []
          },
          "execution_count": 69
        }
      ]
    },
    {
      "cell_type": "code",
      "metadata": {
        "id": "t_uotmZ4DHZ2",
        "colab_type": "code",
        "colab": {}
      },
      "source": [
        "#Thanks"
      ],
      "execution_count": null,
      "outputs": []
    }
  ]
}