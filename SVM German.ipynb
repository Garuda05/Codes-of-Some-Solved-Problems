{
 "cells": [
  {
   "cell_type": "code",
   "execution_count": 12,
   "metadata": {},
   "outputs": [
    {
     "name": "stdout",
     "output_type": "stream",
     "text": [
      "(1000, 25)\n",
      "    A1  A2  A3   A4  A5  A6  A7  A8  A9  A10  ...  A16  A17  A18  A19  A20  \\\n",
      "0    1   6   4   12   5   5   3   4   1   67  ...    0    0    1    0    0   \n",
      "1    2  48   2   60   1   3   2   2   1   22  ...    0    0    1    0    0   \n",
      "2    4  12   4   21   1   4   3   3   1   49  ...    0    0    1    0    0   \n",
      "3    1  42   2   79   1   4   3   4   2   45  ...    0    0    0    0    0   \n",
      "4    1  24   3   49   1   3   3   4   4   53  ...    1    0    1    0    0   \n",
      "5    4  36   2   91   5   3   3   4   4   35  ...    0    0    1    0    0   \n",
      "6    4  24   2   28   3   5   3   4   2   53  ...    0    0    1    0    0   \n",
      "7    2  36   2   69   1   3   3   2   3   35  ...    0    1    1    0    1   \n",
      "8    4  12   2   31   4   4   1   4   1   61  ...    0    0    1    0    0   \n",
      "9    2  30   4   52   1   1   4   2   3   28  ...    1    0    1    0    0   \n",
      "10   2  12   2   13   1   2   2   1   3   25  ...    1    0    1    0    1   \n",
      "11   1  48   2   43   1   2   2   4   2   24  ...    0    0    1    0    1   \n",
      "12   2  12   2   16   1   3   2   1   3   22  ...    0    0    1    0    0   \n",
      "13   1  24   4   12   1   5   3   4   3   60  ...    1    0    1    0    0   \n",
      "14   1  15   2   14   1   3   2   4   3   28  ...    1    0    1    0    1   \n",
      "15   1  24   2   13   2   3   2   2   3   32  ...    0    0    1    0    0   \n",
      "16   4  24   4   24   5   5   3   4   2   53  ...    0    0    1    0    0   \n",
      "17   1  30   0   81   5   2   3   3   3   25  ...    0    0    1    0    0   \n",
      "18   2  24   2  126   1   5   2   2   4   44  ...    0    1    1    0    0   \n",
      "19   4  24   2   34   3   5   3   2   3   31  ...    0    0    1    0    0   \n",
      "\n",
      "    A21  A22  A23  A24  class  \n",
      "0     1    0    0    1      1  \n",
      "1     1    0    0    1      2  \n",
      "2     1    0    1    0      1  \n",
      "3     0    0    0    1      1  \n",
      "4     0    0    0    1      2  \n",
      "5     0    0    1    0      1  \n",
      "6     1    0    0    1      1  \n",
      "7     0    0    0    0      1  \n",
      "8     1    0    1    0      1  \n",
      "9     1    0    0    0      2  \n",
      "10    0    0    0    1      2  \n",
      "11    0    0    0    1      2  \n",
      "12    1    0    0    1      1  \n",
      "13    1    0    1    0      2  \n",
      "14    0    0    0    1      1  \n",
      "15    1    0    1    0      2  \n",
      "16    1    0    0    1      1  \n",
      "17    1    0    0    1      1  \n",
      "18    0    0    0    0      2  \n",
      "19    1    0    0    1      1  \n",
      "\n",
      "[20 rows x 25 columns]\n",
      "                A1           A2          A3           A4           A5  \\\n",
      "count  1000.000000  1000.000000  1000.00000  1000.000000  1000.000000   \n",
      "mean      2.577000    20.903000     2.54500    32.711000     2.105000   \n",
      "std       1.257638    12.058814     1.08312    28.252605     1.580023   \n",
      "min       1.000000     4.000000     0.00000     2.000000     1.000000   \n",
      "25%       1.000000    12.000000     2.00000    14.000000     1.000000   \n",
      "50%       2.000000    18.000000     2.00000    23.000000     1.000000   \n",
      "75%       4.000000    24.000000     4.00000    40.000000     3.000000   \n",
      "max       4.000000    72.000000     4.00000   184.000000     5.000000   \n",
      "\n",
      "                A6          A7           A8           A9          A10  ...  \\\n",
      "count  1000.000000  1000.00000  1000.000000  1000.000000  1000.000000  ...   \n",
      "mean      3.384000     2.68200     2.845000     2.358000    35.546000  ...   \n",
      "std       1.208306     0.70808     1.103718     1.050209    11.375469  ...   \n",
      "min       1.000000     1.00000     1.000000     1.000000    19.000000  ...   \n",
      "25%       3.000000     2.00000     2.000000     1.000000    27.000000  ...   \n",
      "50%       3.000000     3.00000     3.000000     2.000000    33.000000  ...   \n",
      "75%       5.000000     3.00000     4.000000     3.000000    42.000000  ...   \n",
      "max       5.000000     4.00000     4.000000     4.000000    75.000000  ...   \n",
      "\n",
      "               A16          A17          A18          A19          A20  \\\n",
      "count  1000.000000  1000.000000  1000.000000  1000.000000  1000.000000   \n",
      "mean      0.234000     0.103000     0.907000     0.041000     0.179000   \n",
      "std       0.423584     0.304111     0.290578     0.198389     0.383544   \n",
      "min       0.000000     0.000000     0.000000     0.000000     0.000000   \n",
      "25%       0.000000     0.000000     1.000000     0.000000     0.000000   \n",
      "50%       0.000000     0.000000     1.000000     0.000000     0.000000   \n",
      "75%       0.000000     0.000000     1.000000     0.000000     0.000000   \n",
      "max       1.000000     1.000000     1.000000     1.000000     1.000000   \n",
      "\n",
      "               A21          A22        A23          A24        class  \n",
      "count  1000.000000  1000.000000  1000.0000  1000.000000  1000.000000  \n",
      "mean      0.713000     0.022000     0.2000     0.630000     1.300000  \n",
      "std       0.452588     0.146757     0.4002     0.483046     0.458487  \n",
      "min       0.000000     0.000000     0.0000     0.000000     1.000000  \n",
      "25%       0.000000     0.000000     0.0000     0.000000     1.000000  \n",
      "50%       1.000000     0.000000     0.0000     1.000000     1.000000  \n",
      "75%       1.000000     0.000000     0.0000     1.000000     2.000000  \n",
      "max       1.000000     1.000000     1.0000     1.000000     2.000000  \n",
      "\n",
      "[8 rows x 25 columns]\n",
      "class\n",
      "1    700\n",
      "2    300\n",
      "dtype: int64\n"
     ]
    }
   ],
   "source": [
    "import pandas\n",
    "from sklearn.svm import SVC\n",
    "from sklearn import model_selection\n",
    "from sklearn.metrics import classification_report\n",
    "from sklearn.metrics import confusion_matrix\n",
    "from sklearn.metrics import accuracy_score\n",
    "\n",
    "url =\"file:///D:/Downloads/german.data-numeric\"\n",
    "\n",
    "names = ['A1', 'A2', 'A3', 'A4', 'A5', 'A6', 'A7', 'A8',\n",
    "'A9', 'A10', 'A11', 'A12', 'A13', 'A14', 'A15', 'A16',\n",
    "'A17', 'A18', 'A19', 'A20', 'A21', 'A22', 'A23', 'A24',\n",
    "'class']\n",
    "dataset = pandas.read_csv(url, names=names,\n",
    "delim_whitespace=True)\n",
    "print(dataset.shape)\n",
    "print(dataset.head(20))\n",
    "print(dataset.describe())\n",
    "print(dataset.groupby('class').size())\n",
    "array = dataset.values\n",
    "X = array[:,0:-1]\n",
    "Y = array[:,-1]\n",
    "validation_size = 0.20\n",
    "seed = 7\n",
    "\n",
    "X_train, X_validation, Y_train, Y_validation = model_selection.train_test_split(X, Y,\n",
    "test_size=validation_size, random_state=seed)\n",
    "cart = SVC(class_weight={1: 1, 2: 1})\n",
    "cart.fit(X_train, Y_train)\n",
    "prediction = cart.predict(X_validation)"
   ]
  },
  {
   "cell_type": "code",
   "execution_count": 13,
   "metadata": {},
   "outputs": [
    {
     "name": "stdout",
     "output_type": "stream",
     "text": [
      "[1 1 1 1 1 1 1 1 1 1 1 1 1 1 1 1 1 1 1 1 1 1 1 1 1 1 1 1 1 1 1 1 1 1 1 1 1\n",
      " 1 1 1 1 1 1 1 1 1 1 1 1 1 1 1 1 1 1 1 1 1 1 1 1 1 1 1 1 1 1 1 1 1 1 1 1 1\n",
      " 1 1 1 1 1 1 1 1 1 1 1 1 1 1 1 1 1 1 1 1 1 1 1 1 1 1 1 1 1 1 1 1 1 2 1 1 1\n",
      " 1 1 1 1 1 1 2 1 1 1 1 1 1 1 1 1 1 1 2 1 1 1 1 1 1 1 1 1 1 1 1 1 1 1 1 1 1\n",
      " 1 2 1 1 1 1 1 1 1 1 1 1 1 1 1 1 1 1 1 1 1 1 2 1 1 1 1 1 1 1 1 1 1 1 1 1 1\n",
      " 1 1 1 1 1 1 1 1 2 1 1 1 1 1 1]\n"
     ]
    }
   ],
   "source": [
    "print(prediction)"
   ]
  },
  {
   "cell_type": "code",
   "execution_count": 14,
   "metadata": {},
   "outputs": [
    {
     "name": "stdout",
     "output_type": "stream",
     "text": [
      "0.745\n"
     ]
    }
   ],
   "source": [
    "print(accuracy_score(Y_validation, prediction))"
   ]
  },
  {
   "cell_type": "code",
   "execution_count": 15,
   "metadata": {},
   "outputs": [
    {
     "name": "stdout",
     "output_type": "stream",
     "text": [
      "[[146   3]\n",
      " [ 48   3]]\n"
     ]
    }
   ],
   "source": [
    "print(confusion_matrix(Y_validation, prediction))"
   ]
  },
  {
   "cell_type": "code",
   "execution_count": 7,
   "metadata": {},
   "outputs": [
    {
     "name": "stdout",
     "output_type": "stream",
     "text": [
      "              precision    recall  f1-score   support\n",
      "\n",
      "           1       0.00      0.00      0.00       149\n",
      "           2       0.26      1.00      0.41        51\n",
      "\n",
      "    accuracy                           0.26       200\n",
      "   macro avg       0.13      0.50      0.20       200\n",
      "weighted avg       0.07      0.26      0.10       200\n",
      "\n"
     ]
    },
    {
     "name": "stderr",
     "output_type": "stream",
     "text": [
      "C:\\Users\\Mukesh\\anaconda3\\lib\\site-packages\\sklearn\\metrics\\_classification.py:1272: UndefinedMetricWarning: Precision and F-score are ill-defined and being set to 0.0 in labels with no predicted samples. Use `zero_division` parameter to control this behavior.\n",
      "  _warn_prf(average, modifier, msg_start, len(result))\n"
     ]
    }
   ],
   "source": [
    "\n",
    "print(classification_report(Y_validation, prediction))\n"
   ]
  },
  {
   "cell_type": "code",
   "execution_count": 16,
   "metadata": {},
   "outputs": [
    {
     "name": "stdout",
     "output_type": "stream",
     "text": [
      "[1 2 1 1 1 1 2 1 1 2 1 2 2 1 1 1 1 1 1 1 1 1 1 1 1 1 1 1 1 1 1 2 1 1 1 1 2\n",
      " 1 2 1 1 1 1 1 2 1 1 1 2 1 1 2 1 1 1 1 1 1 1 1 2 2 1 1 1 1 1 1 2 1 1 1 1 1\n",
      " 1 1 1 1 2 2 2 1 1 2 1 2 1 2 1 2 1 1 1 1 1 1 1 2 1 2 1 1 2 1 1 1 1 2 2 1 1\n",
      " 1 1 1 1 1 1 2 1 1 1 1 1 1 2 1 1 2 1 1 1 1 1 1 2 1 2 2 1 1 1 1 1 2 1 1 1 1\n",
      " 1 2 1 2 1 1 2 2 1 1 1 2 2 1 1 2 2 2 2 1 1 2 1 1 1 2 1 1 1 2 1 1 1 1 2 1 1\n",
      " 2 1 1 2 1 1 1 1 1 2 1 1 1 2 1]\n"
     ]
    }
   ],
   "source": [
    "print(Y_validation)"
   ]
  },
  {
   "cell_type": "code",
   "execution_count": 17,
   "metadata": {},
   "outputs": [
    {
     "data": {
      "text/plain": [
       "array([1, 2, 1, 1, 1, 1, 2, 1, 1, 2, 1, 2, 2, 1, 1, 1, 1, 1, 1, 1, 1, 1,\n",
       "       1, 1, 1, 1, 1, 1, 1, 1, 1, 2, 1, 1, 1, 1, 2, 1, 2, 1, 1, 1, 1, 1,\n",
       "       2, 1, 1, 1, 2, 1, 1, 2, 1, 1, 1, 1, 1, 1, 1, 1, 2, 2, 1, 1, 1, 1,\n",
       "       1, 1, 2, 1, 1, 1, 1, 1, 1, 1, 1, 1, 2, 2, 2, 1, 1, 2, 1, 2, 1, 2,\n",
       "       1, 2, 1, 1, 1, 1, 1, 1, 1, 2, 1, 2, 1, 1, 2, 1, 1, 1, 1, 2, 2, 1,\n",
       "       1, 1, 1, 1, 1, 1, 1, 2, 1, 1, 1, 1, 1, 1, 2, 1, 1, 2, 1, 1, 1, 1,\n",
       "       1, 1, 2, 1, 2, 2, 1, 1, 1, 1, 1, 2, 1, 1, 1, 1, 1, 2, 1, 2, 1, 1,\n",
       "       2, 2, 1, 1, 1, 2, 2, 1, 1, 2, 2, 2, 2, 1, 1, 2, 1, 1, 1, 2, 1, 1,\n",
       "       1, 2, 1, 1, 1, 1, 2, 1, 1, 2, 1, 1, 2, 1, 1, 1, 1, 1, 2, 1, 1, 1,\n",
       "       2, 1], dtype=int64)"
      ]
     },
     "execution_count": 17,
     "metadata": {},
     "output_type": "execute_result"
    }
   ],
   "source": [
    "Y_validation"
   ]
  },
  {
   "cell_type": "code",
   "execution_count": 18,
   "metadata": {},
   "outputs": [
    {
     "ename": "NameError",
     "evalue": "name 'Y_test' is not defined",
     "output_type": "error",
     "traceback": [
      "\u001b[1;31m---------------------------------------------------------------------------\u001b[0m",
      "\u001b[1;31mNameError\u001b[0m                                 Traceback (most recent call last)",
      "\u001b[1;32m<ipython-input-18-9823bd7070f7>\u001b[0m in \u001b[0;36m<module>\u001b[1;34m\u001b[0m\n\u001b[1;32m----> 1\u001b[1;33m \u001b[0mY_test\u001b[0m\u001b[1;33m\u001b[0m\u001b[1;33m\u001b[0m\u001b[0m\n\u001b[0m",
      "\u001b[1;31mNameError\u001b[0m: name 'Y_test' is not defined"
     ]
    }
   ],
   "source": [
    "Y_test"
   ]
  },
  {
   "cell_type": "code",
   "execution_count": null,
   "metadata": {},
   "outputs": [],
   "source": []
  }
 ],
 "metadata": {
  "kernelspec": {
   "display_name": "Python 3",
   "language": "python",
   "name": "python3"
  },
  "language_info": {
   "codemirror_mode": {
    "name": "ipython",
    "version": 3
   },
   "file_extension": ".py",
   "mimetype": "text/x-python",
   "name": "python",
   "nbconvert_exporter": "python",
   "pygments_lexer": "ipython3",
   "version": "3.7.6"
  }
 },
 "nbformat": 4,
 "nbformat_minor": 4
}
