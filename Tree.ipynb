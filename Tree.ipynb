import pandas
from sklearn.tree import DecisionTreeClassifier
from sklearn import model_selection
from sklearn.metrics import classification_report
from sklearn.metrics import confusion_matrix
from sklearn.metrics import accuracy_score

url ="file:///D:/Downloads/ML/german.data-numeric"

names = ['A1', 'A2', 'A3', 'A4', 'A5', 'A6', 'A7', 'A8',
'A9', 'A10', 'A11', 'A12', 'A13', 'A14', 'A15', 'A16',
'A17', 'A18', 'A19', 'A20', 'A21', 'A22', 'A23', 'A24', 'class']
dataset = pandas.read_csv(url, names=names,
delim_whitespace=True)
print(dataset.shape)
print(dataset.head(20))
print(dataset.describe())
print(dataset.groupby('class').size())
array = dataset.values
X = array[:,0:-1]
Y = array[:,-1]
validation_size = 0.20
seed = 7

X_train, X_validation, Y_train, Y_validation = model_selection.train_test_split(X, Y,
test_size=validation_size, random_state=seed)
cart = DecisionTreeClassifier(class_weight={1: 1, 2: 1000})
cart.fit(X_train, Y_train)
prediction = cart.predict(X_validation)
print(prediction)
print(accuracy_score(Y_validation, prediction))
print(confusion_matrix(Y_validation, prediction))
print(classification_report(Y_validation, prediction))
print(Y_validation)
a = cart.get_depth()
b = cart.get_n_leaves()
print(a)
print(b)